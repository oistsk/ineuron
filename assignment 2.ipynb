{
 "cells": [
  {
   "cell_type": "code",
   "execution_count": 1,
   "metadata": {},
   "outputs": [
    {
     "name": "stdout",
     "output_type": "stream",
     "text": [
      "150\n"
     ]
    }
   ],
   "source": [
    "# Task 1:\n",
    "# Q. Write a Python Program to implement your own myreduce() function which works exactly like Python's built-in function reduce() \n",
    "    \n",
    "def myreduce(func, seq):\n",
    "    result = seq[0]\n",
    "    for i in seq[1:]:\n",
    "        result = func(result, i)\n",
    "    return result\n",
    "def sum(x,y):\n",
    "    return x+y\n",
    "    \n",
    "print(myreduce(sum,[10,20,30,40,50]))\n",
    "    \n",
    "    \n",
    "    \n",
    "    \n",
    "    \n",
    "    \n",
    "    \n",
    "    "
   ]
  },
  {
   "cell_type": "code",
   "execution_count": 59,
   "metadata": {
    "scrolled": true
   },
   "outputs": [
    {
     "name": "stdout",
     "output_type": "stream",
     "text": [
      "[2, 6, 8, 10]\n"
     ]
    }
   ],
   "source": [
    "# Q.1.2 Write a Python program to implement your own myfilter() function which works exactly like Python's built-in function filter() \n",
    "\n",
    "def myfilter(anyfunc, sequence):\n",
    "\n",
    " \n",
    "     result = []\n",
    " \n",
    "     for item in sequence:\n",
    "          if anyfunc(item):\n",
    "               result.append(item)\n",
    "\n",
    " \n",
    "     return result\n",
    "def even(x):\n",
    "    return x%2==0\n",
    "print(list(myfilter(even,[2,5,6,8,10])))\n",
    "\n",
    "\n",
    "\n",
    "\n"
   ]
  },
  {
   "cell_type": "code",
   "execution_count": 22,
   "metadata": {},
   "outputs": [
    {
     "name": "stdout",
     "output_type": "stream",
     "text": [
      "['A', 'C', 'A', 'D', 'G', 'I', 'L', 'D']\n",
      "['x', 'xx', 'xxx', 'xxxx', 'y', 'yy', 'yyy', 'yyyy', 'z', 'zz', 'zzz', 'zzzz']\n",
      "['x', 'y', 'z', 'xx', 'yy', 'zz', 'xxx', 'yyy', 'zzz', 'xxxx', 'yyyy', 'zzzz']\n",
      "[[2], [3], [4], [3], [4], [5], [4], [5], [6]]\n",
      "[[2, 3, 4, 5], [3, 4, 5, 6], [4, 5, 6, 7], [5, 6, 7, 8]]\n",
      "[(1, 1), (2, 1), (3, 1), (1, 2), (2, 2), (3, 2), (1, 3), (2, 3), (3, 3)]\n"
     ]
    }
   ],
   "source": [
    "\"\"\"Q. 2.  \n",
    " \n",
    "Implement List comprehensions to produce the following lists. \n",
    " \n",
    "Write List comprehensions to produce the following Lists \n",
    " \n",
    "            ['A', 'C', 'A', 'D', 'G', 'I', ’L’, ‘ D’] \n",
    "\n",
    "            ['x', 'xx', 'xxx', 'xxxx', 'y', 'yy', 'yyy', 'yyyy', 'z', 'zz', 'zzz', 'zzzz'] \n",
    "\n",
    "            ['x', 'y', 'z', 'xx', 'yy', 'zz', 'xx', 'yy', 'zz', 'xxxx', 'yyyy', 'zzzz'] \n",
    "\n",
    "            [[2], [3], [4], [3], [4], [5], [4], [5], [6]] \n",
    "\n",
    "            [[2, 3, 4, 5], [3, 4, 5, 6], [4, 5, 6, 7], [5, 6, 7, 8]] \n",
    "\n",
    "            [(1, 1), (2, 1), (3, 1), (1, 2), (2, 2), (3, 2), (1, 3), (2, 3), (3, 3)] \"\"\"\n",
    "\n",
    "## frist:\n",
    "a = 'ACADGILD'\n",
    "result= [i for i in a]\n",
    "print(result)\n",
    "\n",
    "## second:\n",
    "b = ['x','y','z']\n",
    "result = [i*j for i in b for j in range(1,5)]\n",
    "print(result)\n",
    "\n",
    "## third:\n",
    "c = ['x','y','z']\n",
    "result = [i*j for i in range(1,5) for j in c ]\n",
    "print(result)\n",
    "\n",
    "## fourth\n",
    "d = [2,3,4]\n",
    "result = [[i+j]for i in d for j in range(0,3)]\n",
    "print(result)\n",
    "\n",
    "## fifth:\n",
    "e = [2,3,4,5]\n",
    "result = [[i+j for i in e] for j in range(0,4)  ]\n",
    "print(result)\n",
    "\n",
    "# sixth:\n",
    "f = [1,2,3]\n",
    "result = [(j,i) for i in f for j in f]\n",
    "print(result)\n"
   ]
  },
  {
   "cell_type": "code",
   "execution_count": 30,
   "metadata": {},
   "outputs": [
    {
     "name": "stdout",
     "output_type": "stream",
     "text": [
      "python\n"
     ]
    }
   ],
   "source": [
    "# Q.3.  Implement a function longestWord() that takes a list of words and returns the longest one\n",
    "def longestWord(list1):\n",
    "    for i in (list1):\n",
    "        for j in (list1):\n",
    "            if len(i) < len(j):\n",
    "                break\n",
    "        else:\n",
    "            print(i)\n",
    "            break\n",
    "\n",
    "\n",
    "\n",
    "longestWord([\"suraj\", \"nitin\", \"python\"])"
   ]
  },
  {
   "cell_type": "code",
   "execution_count": 56,
   "metadata": {},
   "outputs": [
    {
     "name": "stdout",
     "output_type": "stream",
     "text": [
      "14.696938456699069\n"
     ]
    }
   ],
   "source": [
    "## Task: 2\n",
    "\n",
    "# 1.1  \n",
    " \n",
    "'''Write a Python Program(with class concepts) to find the area of the triangle using the below formula. \n",
    " \n",
    "area = (s*(s-a)*(s-b)*(s-c)) ** 0.5 \n",
    " \n",
    "Function to take the length of the sides of triangle from user should be defined in the parent class and function to calculate the area should be defined in subclass'''\n",
    "\n",
    "class area_tringle:\n",
    "    def __init__(self):\n",
    "        pass\n",
    "        \n",
    "    def Area(self,a,b,c):\n",
    "        s = (a+b+c)/2\n",
    "        area = (s*(s-a)*(s-b)*(s-c)) ** 0.5\n",
    "        return area\n",
    "\n",
    "s = area_tringle()\n",
    "print(s.Area(5,6,7))\n"
   ]
  },
  {
   "cell_type": "code",
   "execution_count": 36,
   "metadata": {},
   "outputs": [
    {
     "name": "stdout",
     "output_type": "stream",
     "text": [
      "['apple', 'python', 'youtube']\n"
     ]
    }
   ],
   "source": [
    "#Q 1.2 Write a function filter_long_words() that takes a list of words and an integer n and returns the list of words that are longer than n. \n",
    "\n",
    "def filter_long_words(list_words, n):\n",
    "    new_list = []\n",
    "    for i in list_words:\n",
    "        if len(i)> n:\n",
    "            new_list.append(i)\n",
    "    return new_list\n",
    "print(filter_long_words(['ram','apple','python','youtube'],3))\n",
    "            \n"
   ]
  },
  {
   "cell_type": "code",
   "execution_count": 37,
   "metadata": {},
   "outputs": [
    {
     "name": "stdout",
     "output_type": "stream",
     "text": [
      "[2, 3, 4]\n"
     ]
    }
   ],
   "source": [
    "'''Q. 2.1 Write a Python program using function concept that maps  list of words into a list of integers representing the lengths of the corresponding words​. \n",
    "        \n",
    "        Hint: ​If a list [ ab,cde,erty] is passed on to the python function output should come as [2,3,4] \n",
    "         Here 2,3 and 4 are the lengths of the words in the list\n",
    "\n",
    "'''\n",
    "l =  [ 'ab','cde','erty']\n",
    "print(list(map(lambda x:len(x),l)))"
   ]
  },
  {
   "cell_type": "code",
   "execution_count": 52,
   "metadata": {},
   "outputs": [
    {
     "name": "stdout",
     "output_type": "stream",
     "text": [
      "False\n",
      "True\n",
      "True\n"
     ]
    }
   ],
   "source": [
    "# Q.2.2 Write a Python function which takes a character (i.e. a string of length 1) and returns True if it is a vowel, False otherwise. \n",
    " \n",
    "def char(a):\n",
    "    \n",
    "    if a=='a'or a=='i'or a=='e'or a== 'o'or a=='u': \n",
    "        return True\n",
    "    else:\n",
    "        return False\n",
    "print(char('b'))\n",
    "print(char('a'))\n",
    "print(char('i'))"
   ]
  },
  {
   "cell_type": "code",
   "execution_count": null,
   "metadata": {},
   "outputs": [],
   "source": []
  }
 ],
 "metadata": {
  "kernelspec": {
   "display_name": "Python 3",
   "language": "python",
   "name": "python3"
  },
  "language_info": {
   "codemirror_mode": {
    "name": "ipython",
    "version": 3
   },
   "file_extension": ".py",
   "mimetype": "text/x-python",
   "name": "python",
   "nbconvert_exporter": "python",
   "pygments_lexer": "ipython3",
   "version": "3.7.3"
  }
 },
 "nbformat": 4,
 "nbformat_minor": 2
}
